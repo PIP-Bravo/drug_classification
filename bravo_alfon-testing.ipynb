{
 "cells": [
  {
   "cell_type": "markdown",
   "id": "bfe5ea36",
   "metadata": {},
   "source": [
    "# Prediction request terhadap Model yang Terdeploy"
   ]
  },
  {
   "cell_type": "markdown",
   "id": "22842033",
   "metadata": {},
   "source": [
    "## Library Import"
   ]
  },
  {
   "cell_type": "code",
   "execution_count": 6,
   "id": "e5014f29",
   "metadata": {},
   "outputs": [],
   "source": [
    "import requests\n",
    "import tensorflow as tf\n",
    "import base64\n",
    "import numpy as np"
   ]
  },
  {
   "cell_type": "markdown",
   "id": "a9845502",
   "metadata": {},
   "source": [
    "## Definisikan URL Prediksi dan Mapping Label"
   ]
  },
  {
   "cell_type": "code",
   "execution_count": null,
   "id": "33599a22",
   "metadata": {},
   "outputs": [],
   "source": [
    "# URL model di Railway\n",
    "MODEL_URL = \"https://drugclassification-production.up.railway.app/v1/models/drug_classification:predict\"\n",
    "\n",
    "# Label sesuai urutan output model (5 kelas)\n",
    "LABELS = [\"DrugY\", \"drugA\", \"drugB\", \"drugC\", \"drugX\"]"
   ]
  },
  {
   "cell_type": "markdown",
   "id": "7ddf8895",
   "metadata": {},
   "source": [
    "## Definisikan Sampel Data"
   ]
  },
  {
   "cell_type": "code",
   "execution_count": 8,
   "id": "ee4144c5",
   "metadata": {},
   "outputs": [],
   "source": [
    "# Contoh data\n",
    "sample = {\n",
    "    \"Age\": 23,\n",
    "    \"Sex\": \"F\",\n",
    "    \"BP\": \"HIGH\",\n",
    "    \"Cholesterol\": \"HIGH\",\n",
    "    \"Na_to_K\": 25.355\n",
    "}"
   ]
  },
  {
   "cell_type": "markdown",
   "id": "4f44828b",
   "metadata": {},
   "source": [
    "## Definisikan Fungsi Pemrosesan Data dan Request Prediksi"
   ]
  },
  {
   "cell_type": "code",
   "execution_count": 9,
   "id": "a37c956f",
   "metadata": {},
   "outputs": [],
   "source": [
    "def make_tf_example(data):\n",
    "    \"\"\"\n",
    "    Convert dictionary into tf.train.Example\n",
    "    \"\"\"\n",
    "    feature = {\n",
    "        \"Age\": tf.train.Feature(int64_list=tf.train.Int64List(value=[data[\"Age\"]])),\n",
    "        \"Sex\": tf.train.Feature(bytes_list=tf.train.BytesList(value=[data[\"Sex\"].encode()])),\n",
    "        \"BP\": tf.train.Feature(bytes_list=tf.train.BytesList(value=[data[\"BP\"].encode()])),\n",
    "        \"Cholesterol\": tf.train.Feature(bytes_list=tf.train.BytesList(value=[data[\"Cholesterol\"].encode()])),\n",
    "        \"Na_to_K\": tf.train.Feature(float_list=tf.train.FloatList(value=[data[\"Na_to_K\"]]))\n",
    "    }\n",
    "    example_proto = tf.train.Example(features=tf.train.Features(feature=feature))\n",
    "    return example_proto.SerializeToString()\n",
    "\n",
    "def predict(sample):\n",
    "    # Buat tf.train.Example serialized string\n",
    "    serialized = make_tf_example(sample)\n",
    "\n",
    "    # Encode ke base64 agar bisa diterima Serving\n",
    "    b64_example = base64.b64encode(serialized).decode(\"utf-8\")\n",
    "\n",
    "    payload = {\"instances\": [ {\"b64\": b64_example} ]}\n",
    "\n",
    "    response = requests.post(MODEL_URL, json=payload)\n",
    "    if response.status_code == 200:\n",
    "        result = response.json()[\"predictions\"][0]\n",
    "        probs = np.array(result)\n",
    "        predicted_index = int(np.argmax(probs))\n",
    "        predicted_label = LABELS[predicted_index]\n",
    "        \n",
    "        print(\"Probabilities:\", dict(zip(LABELS, probs)))\n",
    "        print(\"Predicted Label:\", predicted_label)\n",
    "    else:\n",
    "        print(\"Error:\", response.text)"
   ]
  },
  {
   "cell_type": "markdown",
   "id": "a337808e",
   "metadata": {},
   "source": [
    "## Lakukan Prediction Request"
   ]
  },
  {
   "cell_type": "code",
   "execution_count": 10,
   "id": "f1b7f750",
   "metadata": {},
   "outputs": [
    {
     "name": "stdout",
     "output_type": "stream",
     "text": [
      "Probabilities: {'DrugY': 0.999999881, 'drugA': 3.87540524e-08, 'drugB': 1.68109118e-08, 'drugC': 5.40844081e-09, 'drugX': 7.77183544e-08}\n",
      "Predicted Label: DrugY\n"
     ]
    }
   ],
   "source": [
    "if __name__ == \"__main__\":\n",
    "    predict(sample)"
   ]
  }
 ],
 "metadata": {
  "kernelspec": {
   "display_name": "a443-churn",
   "language": "python",
   "name": "python3"
  },
  "language_info": {
   "codemirror_mode": {
    "name": "ipython",
    "version": 3
   },
   "file_extension": ".py",
   "mimetype": "text/x-python",
   "name": "python",
   "nbconvert_exporter": "python",
   "pygments_lexer": "ipython3",
   "version": "3.9.15"
  }
 },
 "nbformat": 4,
 "nbformat_minor": 5
}
